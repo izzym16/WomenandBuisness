{
 "cells": [
  {
   "cell_type": "code",
   "execution_count": 70,
   "id": "870b44d0",
   "metadata": {},
   "outputs": [],
   "source": [
    "# import all needed packages\n",
    "import pandas as pd\n",
    "import matplotlib.pyplot as plt\n",
    "import numpy as np\n",
    "import seaborn as sns\n",
    "from sklearn.cluster import KMeans\n",
    "import plotly.graph_objects as go\n",
    "from plotly.subplots import make_subplots\n",
    "from plotly.offline import init_notebook_mode, iplot\n",
    "import chart_studio as py\n",
    "import plotly.express as px\n",
    "import openpyxl\n",
    "import geopandas\n",
    "import statistics"
   ]
  },
  {
   "cell_type": "code",
   "execution_count": 2,
   "id": "7e35f4da",
   "metadata": {},
   "outputs": [],
   "source": [
    "# import the WBL index\n",
    "wbl_df = pd.read_excel(\"/Users/izzyabate/Desktop/Research Sanchari/WBL Panel.xlsx\")"
   ]
  },
  {
   "cell_type": "markdown",
   "id": "69d5fad5",
   "metadata": {},
   "source": [
    "# What is the index?\n",
    "WBL index  measures the extent of legal equality women have with men in various dimensions of their lives (including marriage, mobility, work, pay etc.)"
   ]
  },
  {
   "cell_type": "code",
   "execution_count": 7,
   "id": "8af4c7bf",
   "metadata": {},
   "outputs": [
    {
     "name": "stdout",
     "output_type": "stream",
     "text": [
      "Index(['Economy', 'Economy Code', 'ISO Code', 'Region', 'Income Group',\n",
      "       'Report Year', 'WBL INDEX', 'MOBILITY',\n",
      "       'Can a woman choose where to live in the same way as a man?',\n",
      "       'Can a woman travel outside her home in the same way as a man?',\n",
      "       'Can a woman apply for a passport in the same way as a man?',\n",
      "       'Can a woman travel outside the country in the same way as a man?',\n",
      "       'WORKPLACE', 'Can a woman get a job in the same way as a man?',\n",
      "       'Does the law prohibit discrimination in employment based on gender?',\n",
      "       'Is there legislation on sexual harassment in employment?',\n",
      "       'Are there criminal penalties or civil remedies for sexual harassment in employment?',\n",
      "       'PAY',\n",
      "       'Does the law mandate equal remuneration for work of equal value?',\n",
      "       'Can a woman work at night in the same way as a man?',\n",
      "       'Can a woman work in a job deemed dangerous in the same way as a man?',\n",
      "       'Can a woman work in an industrial job in the same way as a man?',\n",
      "       'MARRIAGE',\n",
      "       'Is there no legal provision that requires a married woman to obey her husband?',\n",
      "       'Can a woman be head of household in the same way as a man?',\n",
      "       'Is there legislation specifically addressing domestic violence?',\n",
      "       'Can a woman obtain a judgment of divorce in the same way as a man?',\n",
      "       'Does a woman have the same rights to remarry as a man?', 'PARENTHOOD',\n",
      "       'Is paid leave of at least 14 weeks available to mothers?',\n",
      "       'Length of paid maternity leave',\n",
      "       'Does the government administer 100% of maternity leave benefits?',\n",
      "       'Is there paid leave available to fathers?',\n",
      "       'Length of paid paternity leave', 'Is there paid parental leave?',\n",
      "       'Shared days', 'Days for the mother', 'Days for the father',\n",
      "       'Is dismissal of pregnant workers prohibited?', 'ENTREPRENEURSHIP',\n",
      "       'Does the law prohibit discrimination in access to credit based on gender?',\n",
      "       'Can a woman sign a contract in the same way as a man?',\n",
      "       'Can a woman register a business in the same way as a man?',\n",
      "       'Can a woman open a bank account in the same way as a man?', 'ASSETS',\n",
      "       'Do men and women have equal ownership rights to immovable property?',\n",
      "       'Do sons and daughters have equal rights to inherit assets from their parents?',\n",
      "       'Do male and female surviving spouses have equal rights to inherit assets?',\n",
      "       'Does the law grant spouses equal administrative authority over assets during marriage?',\n",
      "       'Does the law provide for the valuation of nonmonetary contributions?',\n",
      "       'PENSION',\n",
      "       'Is the age at which men and women can retire with full pension benefits the same?',\n",
      "       'Is the age at which men and women can retire with partial pension benefits the same?',\n",
      "       'Is the mandatory retirement age for men and women the same?',\n",
      "       'Are periods of absence due to childcare accounted for in pension benefits?'],\n",
      "      dtype='object')\n"
     ]
    }
   ],
   "source": [
    "# Understanding the data \n",
    "print(wbl_df.columns)\n",
    "print(wbl_df.describe())"
   ]
  },
  {
   "attachments": {},
   "cell_type": "markdown",
   "id": "0d1314c2",
   "metadata": {},
   "source": [
    "# The geographical distribution of the average WBL index\n",
    "- Regions: High income: OECD, Middle East & North Africa, Sub-Saharan Africa, East Asia & Pacific, Europe & Central Asia, Latin America & Caribbean, South Asia"
   ]
  },
  {
   "cell_type": "code",
   "execution_count": 60,
   "id": "6d82fb6c",
   "metadata": {},
   "outputs": [
    {
     "ename": "TypeError",
     "evalue": "'Index' object is not callable",
     "output_type": "error",
     "traceback": [
      "\u001b[0;31m---------------------------------------------------------------------------\u001b[0m",
      "\u001b[0;31mTypeError\u001b[0m                                 Traceback (most recent call last)",
      "Cell \u001b[0;32mIn [60], line 7\u001b[0m\n\u001b[1;32m      5\u001b[0m \u001b[38;5;66;03m# Find the average WBL index by Region\u001b[39;00m\n\u001b[1;32m      6\u001b[0m avgWBL \u001b[38;5;241m=\u001b[39m geo_index\u001b[38;5;241m.\u001b[39mgroupby([\u001b[38;5;124m'\u001b[39m\u001b[38;5;124mRegion\u001b[39m\u001b[38;5;124m'\u001b[39m])\u001b[38;5;241m.\u001b[39mmean()\n\u001b[0;32m----> 7\u001b[0m \u001b[38;5;28mprint\u001b[39m(\u001b[43mavgWBL\u001b[49m\u001b[38;5;241;43m.\u001b[39;49m\u001b[43mcolumns\u001b[49m\u001b[43m(\u001b[49m\u001b[43m)\u001b[49m)\n",
      "\u001b[0;31mTypeError\u001b[0m: 'Index' object is not callable"
     ]
    }
   ],
   "source": [
    "# Subset data frame for region and WBL index\n",
    "geo_index = wbl_df[['Region', 'WBL INDEX']]\n",
    "geo_index.head()\n",
    "\n",
    "# Find the average WBL index by Region\n",
    "avgWBL = geo_index.groupby(['Region']).mean()"
   ]
  },
  {
   "cell_type": "code",
   "execution_count": 40,
   "id": "e857a32a",
   "metadata": {},
   "outputs": [
    {
     "data": {
      "application/vnd.plotly.v1+json": {
       "config": {
        "plotlyServerURL": "https://plot.ly"
       },
       "data": [
        {
         "alignmentgroup": "True",
         "hovertemplate": "variable=WBL INDEX<br>Region=%{x}<br>Average WBL Index=%{y}<extra></extra>",
         "legendgroup": "WBL INDEX",
         "marker": {
          "color": "hotpink",
          "pattern": {
           "shape": ""
          }
         },
         "name": "WBL INDEX",
         "offsetgroup": "WBL INDEX",
         "orientation": "v",
         "showlegend": true,
         "textposition": "auto",
         "type": "bar",
         "x": [
          "East Asia & Pacific",
          "Europe & Central Asia",
          "High income: OECD",
          "Latin America & Caribbean",
          "Middle East & North Africa",
          "South Asia",
          "Sub-Saharan Africa"
         ],
         "xaxis": "x",
         "y": [
          57.45673076923077,
          68.09155518394648,
          76.27934106334841,
          65.04957932692308,
          36.06911057692308,
          47.88311298076923,
          51.93484575320513
         ],
         "yaxis": "y"
        }
       ],
       "layout": {
        "barmode": "relative",
        "legend": {
         "title": {
          "text": "variable"
         },
         "tracegroupgap": 0
        },
        "template": {
         "data": {
          "bar": [
           {
            "error_x": {
             "color": "#2a3f5f"
            },
            "error_y": {
             "color": "#2a3f5f"
            },
            "marker": {
             "line": {
              "color": "#E5ECF6",
              "width": 0.5
             },
             "pattern": {
              "fillmode": "overlay",
              "size": 10,
              "solidity": 0.2
             }
            },
            "type": "bar"
           }
          ],
          "barpolar": [
           {
            "marker": {
             "line": {
              "color": "#E5ECF6",
              "width": 0.5
             },
             "pattern": {
              "fillmode": "overlay",
              "size": 10,
              "solidity": 0.2
             }
            },
            "type": "barpolar"
           }
          ],
          "carpet": [
           {
            "aaxis": {
             "endlinecolor": "#2a3f5f",
             "gridcolor": "white",
             "linecolor": "white",
             "minorgridcolor": "white",
             "startlinecolor": "#2a3f5f"
            },
            "baxis": {
             "endlinecolor": "#2a3f5f",
             "gridcolor": "white",
             "linecolor": "white",
             "minorgridcolor": "white",
             "startlinecolor": "#2a3f5f"
            },
            "type": "carpet"
           }
          ],
          "choropleth": [
           {
            "colorbar": {
             "outlinewidth": 0,
             "ticks": ""
            },
            "type": "choropleth"
           }
          ],
          "contour": [
           {
            "colorbar": {
             "outlinewidth": 0,
             "ticks": ""
            },
            "colorscale": [
             [
              0,
              "#0d0887"
             ],
             [
              0.1111111111111111,
              "#46039f"
             ],
             [
              0.2222222222222222,
              "#7201a8"
             ],
             [
              0.3333333333333333,
              "#9c179e"
             ],
             [
              0.4444444444444444,
              "#bd3786"
             ],
             [
              0.5555555555555556,
              "#d8576b"
             ],
             [
              0.6666666666666666,
              "#ed7953"
             ],
             [
              0.7777777777777778,
              "#fb9f3a"
             ],
             [
              0.8888888888888888,
              "#fdca26"
             ],
             [
              1,
              "#f0f921"
             ]
            ],
            "type": "contour"
           }
          ],
          "contourcarpet": [
           {
            "colorbar": {
             "outlinewidth": 0,
             "ticks": ""
            },
            "type": "contourcarpet"
           }
          ],
          "heatmap": [
           {
            "colorbar": {
             "outlinewidth": 0,
             "ticks": ""
            },
            "colorscale": [
             [
              0,
              "#0d0887"
             ],
             [
              0.1111111111111111,
              "#46039f"
             ],
             [
              0.2222222222222222,
              "#7201a8"
             ],
             [
              0.3333333333333333,
              "#9c179e"
             ],
             [
              0.4444444444444444,
              "#bd3786"
             ],
             [
              0.5555555555555556,
              "#d8576b"
             ],
             [
              0.6666666666666666,
              "#ed7953"
             ],
             [
              0.7777777777777778,
              "#fb9f3a"
             ],
             [
              0.8888888888888888,
              "#fdca26"
             ],
             [
              1,
              "#f0f921"
             ]
            ],
            "type": "heatmap"
           }
          ],
          "heatmapgl": [
           {
            "colorbar": {
             "outlinewidth": 0,
             "ticks": ""
            },
            "colorscale": [
             [
              0,
              "#0d0887"
             ],
             [
              0.1111111111111111,
              "#46039f"
             ],
             [
              0.2222222222222222,
              "#7201a8"
             ],
             [
              0.3333333333333333,
              "#9c179e"
             ],
             [
              0.4444444444444444,
              "#bd3786"
             ],
             [
              0.5555555555555556,
              "#d8576b"
             ],
             [
              0.6666666666666666,
              "#ed7953"
             ],
             [
              0.7777777777777778,
              "#fb9f3a"
             ],
             [
              0.8888888888888888,
              "#fdca26"
             ],
             [
              1,
              "#f0f921"
             ]
            ],
            "type": "heatmapgl"
           }
          ],
          "histogram": [
           {
            "marker": {
             "pattern": {
              "fillmode": "overlay",
              "size": 10,
              "solidity": 0.2
             }
            },
            "type": "histogram"
           }
          ],
          "histogram2d": [
           {
            "colorbar": {
             "outlinewidth": 0,
             "ticks": ""
            },
            "colorscale": [
             [
              0,
              "#0d0887"
             ],
             [
              0.1111111111111111,
              "#46039f"
             ],
             [
              0.2222222222222222,
              "#7201a8"
             ],
             [
              0.3333333333333333,
              "#9c179e"
             ],
             [
              0.4444444444444444,
              "#bd3786"
             ],
             [
              0.5555555555555556,
              "#d8576b"
             ],
             [
              0.6666666666666666,
              "#ed7953"
             ],
             [
              0.7777777777777778,
              "#fb9f3a"
             ],
             [
              0.8888888888888888,
              "#fdca26"
             ],
             [
              1,
              "#f0f921"
             ]
            ],
            "type": "histogram2d"
           }
          ],
          "histogram2dcontour": [
           {
            "colorbar": {
             "outlinewidth": 0,
             "ticks": ""
            },
            "colorscale": [
             [
              0,
              "#0d0887"
             ],
             [
              0.1111111111111111,
              "#46039f"
             ],
             [
              0.2222222222222222,
              "#7201a8"
             ],
             [
              0.3333333333333333,
              "#9c179e"
             ],
             [
              0.4444444444444444,
              "#bd3786"
             ],
             [
              0.5555555555555556,
              "#d8576b"
             ],
             [
              0.6666666666666666,
              "#ed7953"
             ],
             [
              0.7777777777777778,
              "#fb9f3a"
             ],
             [
              0.8888888888888888,
              "#fdca26"
             ],
             [
              1,
              "#f0f921"
             ]
            ],
            "type": "histogram2dcontour"
           }
          ],
          "mesh3d": [
           {
            "colorbar": {
             "outlinewidth": 0,
             "ticks": ""
            },
            "type": "mesh3d"
           }
          ],
          "parcoords": [
           {
            "line": {
             "colorbar": {
              "outlinewidth": 0,
              "ticks": ""
             }
            },
            "type": "parcoords"
           }
          ],
          "pie": [
           {
            "automargin": true,
            "type": "pie"
           }
          ],
          "scatter": [
           {
            "fillpattern": {
             "fillmode": "overlay",
             "size": 10,
             "solidity": 0.2
            },
            "type": "scatter"
           }
          ],
          "scatter3d": [
           {
            "line": {
             "colorbar": {
              "outlinewidth": 0,
              "ticks": ""
             }
            },
            "marker": {
             "colorbar": {
              "outlinewidth": 0,
              "ticks": ""
             }
            },
            "type": "scatter3d"
           }
          ],
          "scattercarpet": [
           {
            "marker": {
             "colorbar": {
              "outlinewidth": 0,
              "ticks": ""
             }
            },
            "type": "scattercarpet"
           }
          ],
          "scattergeo": [
           {
            "marker": {
             "colorbar": {
              "outlinewidth": 0,
              "ticks": ""
             }
            },
            "type": "scattergeo"
           }
          ],
          "scattergl": [
           {
            "marker": {
             "colorbar": {
              "outlinewidth": 0,
              "ticks": ""
             }
            },
            "type": "scattergl"
           }
          ],
          "scattermapbox": [
           {
            "marker": {
             "colorbar": {
              "outlinewidth": 0,
              "ticks": ""
             }
            },
            "type": "scattermapbox"
           }
          ],
          "scatterpolar": [
           {
            "marker": {
             "colorbar": {
              "outlinewidth": 0,
              "ticks": ""
             }
            },
            "type": "scatterpolar"
           }
          ],
          "scatterpolargl": [
           {
            "marker": {
             "colorbar": {
              "outlinewidth": 0,
              "ticks": ""
             }
            },
            "type": "scatterpolargl"
           }
          ],
          "scatterternary": [
           {
            "marker": {
             "colorbar": {
              "outlinewidth": 0,
              "ticks": ""
             }
            },
            "type": "scatterternary"
           }
          ],
          "surface": [
           {
            "colorbar": {
             "outlinewidth": 0,
             "ticks": ""
            },
            "colorscale": [
             [
              0,
              "#0d0887"
             ],
             [
              0.1111111111111111,
              "#46039f"
             ],
             [
              0.2222222222222222,
              "#7201a8"
             ],
             [
              0.3333333333333333,
              "#9c179e"
             ],
             [
              0.4444444444444444,
              "#bd3786"
             ],
             [
              0.5555555555555556,
              "#d8576b"
             ],
             [
              0.6666666666666666,
              "#ed7953"
             ],
             [
              0.7777777777777778,
              "#fb9f3a"
             ],
             [
              0.8888888888888888,
              "#fdca26"
             ],
             [
              1,
              "#f0f921"
             ]
            ],
            "type": "surface"
           }
          ],
          "table": [
           {
            "cells": {
             "fill": {
              "color": "#EBF0F8"
             },
             "line": {
              "color": "white"
             }
            },
            "header": {
             "fill": {
              "color": "#C8D4E3"
             },
             "line": {
              "color": "white"
             }
            },
            "type": "table"
           }
          ]
         },
         "layout": {
          "annotationdefaults": {
           "arrowcolor": "#2a3f5f",
           "arrowhead": 0,
           "arrowwidth": 1
          },
          "autotypenumbers": "strict",
          "coloraxis": {
           "colorbar": {
            "outlinewidth": 0,
            "ticks": ""
           }
          },
          "colorscale": {
           "diverging": [
            [
             0,
             "#8e0152"
            ],
            [
             0.1,
             "#c51b7d"
            ],
            [
             0.2,
             "#de77ae"
            ],
            [
             0.3,
             "#f1b6da"
            ],
            [
             0.4,
             "#fde0ef"
            ],
            [
             0.5,
             "#f7f7f7"
            ],
            [
             0.6,
             "#e6f5d0"
            ],
            [
             0.7,
             "#b8e186"
            ],
            [
             0.8,
             "#7fbc41"
            ],
            [
             0.9,
             "#4d9221"
            ],
            [
             1,
             "#276419"
            ]
           ],
           "sequential": [
            [
             0,
             "#0d0887"
            ],
            [
             0.1111111111111111,
             "#46039f"
            ],
            [
             0.2222222222222222,
             "#7201a8"
            ],
            [
             0.3333333333333333,
             "#9c179e"
            ],
            [
             0.4444444444444444,
             "#bd3786"
            ],
            [
             0.5555555555555556,
             "#d8576b"
            ],
            [
             0.6666666666666666,
             "#ed7953"
            ],
            [
             0.7777777777777778,
             "#fb9f3a"
            ],
            [
             0.8888888888888888,
             "#fdca26"
            ],
            [
             1,
             "#f0f921"
            ]
           ],
           "sequentialminus": [
            [
             0,
             "#0d0887"
            ],
            [
             0.1111111111111111,
             "#46039f"
            ],
            [
             0.2222222222222222,
             "#7201a8"
            ],
            [
             0.3333333333333333,
             "#9c179e"
            ],
            [
             0.4444444444444444,
             "#bd3786"
            ],
            [
             0.5555555555555556,
             "#d8576b"
            ],
            [
             0.6666666666666666,
             "#ed7953"
            ],
            [
             0.7777777777777778,
             "#fb9f3a"
            ],
            [
             0.8888888888888888,
             "#fdca26"
            ],
            [
             1,
             "#f0f921"
            ]
           ]
          },
          "colorway": [
           "#636efa",
           "#EF553B",
           "#00cc96",
           "#ab63fa",
           "#FFA15A",
           "#19d3f3",
           "#FF6692",
           "#B6E880",
           "#FF97FF",
           "#FECB52"
          ],
          "font": {
           "color": "#2a3f5f"
          },
          "geo": {
           "bgcolor": "white",
           "lakecolor": "white",
           "landcolor": "#E5ECF6",
           "showlakes": true,
           "showland": true,
           "subunitcolor": "white"
          },
          "hoverlabel": {
           "align": "left"
          },
          "hovermode": "closest",
          "mapbox": {
           "style": "light"
          },
          "paper_bgcolor": "white",
          "plot_bgcolor": "#E5ECF6",
          "polar": {
           "angularaxis": {
            "gridcolor": "white",
            "linecolor": "white",
            "ticks": ""
           },
           "bgcolor": "#E5ECF6",
           "radialaxis": {
            "gridcolor": "white",
            "linecolor": "white",
            "ticks": ""
           }
          },
          "scene": {
           "xaxis": {
            "backgroundcolor": "#E5ECF6",
            "gridcolor": "white",
            "gridwidth": 2,
            "linecolor": "white",
            "showbackground": true,
            "ticks": "",
            "zerolinecolor": "white"
           },
           "yaxis": {
            "backgroundcolor": "#E5ECF6",
            "gridcolor": "white",
            "gridwidth": 2,
            "linecolor": "white",
            "showbackground": true,
            "ticks": "",
            "zerolinecolor": "white"
           },
           "zaxis": {
            "backgroundcolor": "#E5ECF6",
            "gridcolor": "white",
            "gridwidth": 2,
            "linecolor": "white",
            "showbackground": true,
            "ticks": "",
            "zerolinecolor": "white"
           }
          },
          "shapedefaults": {
           "line": {
            "color": "#2a3f5f"
           }
          },
          "ternary": {
           "aaxis": {
            "gridcolor": "white",
            "linecolor": "white",
            "ticks": ""
           },
           "baxis": {
            "gridcolor": "white",
            "linecolor": "white",
            "ticks": ""
           },
           "bgcolor": "#E5ECF6",
           "caxis": {
            "gridcolor": "white",
            "linecolor": "white",
            "ticks": ""
           }
          },
          "title": {
           "x": 0.05
          },
          "xaxis": {
           "automargin": true,
           "gridcolor": "white",
           "linecolor": "white",
           "ticks": "",
           "title": {
            "standoff": 15
           },
           "zerolinecolor": "white",
           "zerolinewidth": 2
          },
          "yaxis": {
           "automargin": true,
           "gridcolor": "white",
           "linecolor": "white",
           "ticks": "",
           "title": {
            "standoff": 15
           },
           "zerolinecolor": "white",
           "zerolinewidth": 2
          }
         }
        },
        "title": {
         "text": "Geographical Distribution of the Average WBL Index"
        },
        "xaxis": {
         "anchor": "y",
         "domain": [
          0,
          1
         ],
         "title": {
          "text": "Region"
         }
        },
        "yaxis": {
         "anchor": "x",
         "domain": [
          0,
          1
         ],
         "title": {
          "text": "Average WBL Index"
         }
        }
       }
      },
      "text/html": [
       "<div>                            <div id=\"deed8175-1b5b-4171-a42b-e471d7f7b265\" class=\"plotly-graph-div\" style=\"height:525px; width:100%;\"></div>            <script type=\"text/javascript\">                require([\"plotly\"], function(Plotly) {                    window.PLOTLYENV=window.PLOTLYENV || {};                                    if (document.getElementById(\"deed8175-1b5b-4171-a42b-e471d7f7b265\")) {                    Plotly.newPlot(                        \"deed8175-1b5b-4171-a42b-e471d7f7b265\",                        [{\"alignmentgroup\":\"True\",\"hovertemplate\":\"variable=WBL INDEX<br>Region=%{x}<br>Average WBL Index=%{y}<extra></extra>\",\"legendgroup\":\"WBL INDEX\",\"marker\":{\"color\":\"hotpink\",\"pattern\":{\"shape\":\"\"}},\"name\":\"WBL INDEX\",\"offsetgroup\":\"WBL INDEX\",\"orientation\":\"v\",\"showlegend\":true,\"textposition\":\"auto\",\"x\":[\"East Asia & Pacific\",\"Europe & Central Asia\",\"High income: OECD\",\"Latin America & Caribbean\",\"Middle East & North Africa\",\"South Asia\",\"Sub-Saharan Africa\"],\"xaxis\":\"x\",\"y\":[57.45673076923077,68.09155518394648,76.27934106334841,65.04957932692308,36.06911057692308,47.88311298076923,51.93484575320513],\"yaxis\":\"y\",\"type\":\"bar\"}],                        {\"template\":{\"data\":{\"histogram2dcontour\":[{\"type\":\"histogram2dcontour\",\"colorbar\":{\"outlinewidth\":0,\"ticks\":\"\"},\"colorscale\":[[0.0,\"#0d0887\"],[0.1111111111111111,\"#46039f\"],[0.2222222222222222,\"#7201a8\"],[0.3333333333333333,\"#9c179e\"],[0.4444444444444444,\"#bd3786\"],[0.5555555555555556,\"#d8576b\"],[0.6666666666666666,\"#ed7953\"],[0.7777777777777778,\"#fb9f3a\"],[0.8888888888888888,\"#fdca26\"],[1.0,\"#f0f921\"]]}],\"choropleth\":[{\"type\":\"choropleth\",\"colorbar\":{\"outlinewidth\":0,\"ticks\":\"\"}}],\"histogram2d\":[{\"type\":\"histogram2d\",\"colorbar\":{\"outlinewidth\":0,\"ticks\":\"\"},\"colorscale\":[[0.0,\"#0d0887\"],[0.1111111111111111,\"#46039f\"],[0.2222222222222222,\"#7201a8\"],[0.3333333333333333,\"#9c179e\"],[0.4444444444444444,\"#bd3786\"],[0.5555555555555556,\"#d8576b\"],[0.6666666666666666,\"#ed7953\"],[0.7777777777777778,\"#fb9f3a\"],[0.8888888888888888,\"#fdca26\"],[1.0,\"#f0f921\"]]}],\"heatmap\":[{\"type\":\"heatmap\",\"colorbar\":{\"outlinewidth\":0,\"ticks\":\"\"},\"colorscale\":[[0.0,\"#0d0887\"],[0.1111111111111111,\"#46039f\"],[0.2222222222222222,\"#7201a8\"],[0.3333333333333333,\"#9c179e\"],[0.4444444444444444,\"#bd3786\"],[0.5555555555555556,\"#d8576b\"],[0.6666666666666666,\"#ed7953\"],[0.7777777777777778,\"#fb9f3a\"],[0.8888888888888888,\"#fdca26\"],[1.0,\"#f0f921\"]]}],\"heatmapgl\":[{\"type\":\"heatmapgl\",\"colorbar\":{\"outlinewidth\":0,\"ticks\":\"\"},\"colorscale\":[[0.0,\"#0d0887\"],[0.1111111111111111,\"#46039f\"],[0.2222222222222222,\"#7201a8\"],[0.3333333333333333,\"#9c179e\"],[0.4444444444444444,\"#bd3786\"],[0.5555555555555556,\"#d8576b\"],[0.6666666666666666,\"#ed7953\"],[0.7777777777777778,\"#fb9f3a\"],[0.8888888888888888,\"#fdca26\"],[1.0,\"#f0f921\"]]}],\"contourcarpet\":[{\"type\":\"contourcarpet\",\"colorbar\":{\"outlinewidth\":0,\"ticks\":\"\"}}],\"contour\":[{\"type\":\"contour\",\"colorbar\":{\"outlinewidth\":0,\"ticks\":\"\"},\"colorscale\":[[0.0,\"#0d0887\"],[0.1111111111111111,\"#46039f\"],[0.2222222222222222,\"#7201a8\"],[0.3333333333333333,\"#9c179e\"],[0.4444444444444444,\"#bd3786\"],[0.5555555555555556,\"#d8576b\"],[0.6666666666666666,\"#ed7953\"],[0.7777777777777778,\"#fb9f3a\"],[0.8888888888888888,\"#fdca26\"],[1.0,\"#f0f921\"]]}],\"surface\":[{\"type\":\"surface\",\"colorbar\":{\"outlinewidth\":0,\"ticks\":\"\"},\"colorscale\":[[0.0,\"#0d0887\"],[0.1111111111111111,\"#46039f\"],[0.2222222222222222,\"#7201a8\"],[0.3333333333333333,\"#9c179e\"],[0.4444444444444444,\"#bd3786\"],[0.5555555555555556,\"#d8576b\"],[0.6666666666666666,\"#ed7953\"],[0.7777777777777778,\"#fb9f3a\"],[0.8888888888888888,\"#fdca26\"],[1.0,\"#f0f921\"]]}],\"mesh3d\":[{\"type\":\"mesh3d\",\"colorbar\":{\"outlinewidth\":0,\"ticks\":\"\"}}],\"scatter\":[{\"fillpattern\":{\"fillmode\":\"overlay\",\"size\":10,\"solidity\":0.2},\"type\":\"scatter\"}],\"parcoords\":[{\"type\":\"parcoords\",\"line\":{\"colorbar\":{\"outlinewidth\":0,\"ticks\":\"\"}}}],\"scatterpolargl\":[{\"type\":\"scatterpolargl\",\"marker\":{\"colorbar\":{\"outlinewidth\":0,\"ticks\":\"\"}}}],\"bar\":[{\"error_x\":{\"color\":\"#2a3f5f\"},\"error_y\":{\"color\":\"#2a3f5f\"},\"marker\":{\"line\":{\"color\":\"#E5ECF6\",\"width\":0.5},\"pattern\":{\"fillmode\":\"overlay\",\"size\":10,\"solidity\":0.2}},\"type\":\"bar\"}],\"scattergeo\":[{\"type\":\"scattergeo\",\"marker\":{\"colorbar\":{\"outlinewidth\":0,\"ticks\":\"\"}}}],\"scatterpolar\":[{\"type\":\"scatterpolar\",\"marker\":{\"colorbar\":{\"outlinewidth\":0,\"ticks\":\"\"}}}],\"histogram\":[{\"marker\":{\"pattern\":{\"fillmode\":\"overlay\",\"size\":10,\"solidity\":0.2}},\"type\":\"histogram\"}],\"scattergl\":[{\"type\":\"scattergl\",\"marker\":{\"colorbar\":{\"outlinewidth\":0,\"ticks\":\"\"}}}],\"scatter3d\":[{\"type\":\"scatter3d\",\"line\":{\"colorbar\":{\"outlinewidth\":0,\"ticks\":\"\"}},\"marker\":{\"colorbar\":{\"outlinewidth\":0,\"ticks\":\"\"}}}],\"scattermapbox\":[{\"type\":\"scattermapbox\",\"marker\":{\"colorbar\":{\"outlinewidth\":0,\"ticks\":\"\"}}}],\"scatterternary\":[{\"type\":\"scatterternary\",\"marker\":{\"colorbar\":{\"outlinewidth\":0,\"ticks\":\"\"}}}],\"scattercarpet\":[{\"type\":\"scattercarpet\",\"marker\":{\"colorbar\":{\"outlinewidth\":0,\"ticks\":\"\"}}}],\"carpet\":[{\"aaxis\":{\"endlinecolor\":\"#2a3f5f\",\"gridcolor\":\"white\",\"linecolor\":\"white\",\"minorgridcolor\":\"white\",\"startlinecolor\":\"#2a3f5f\"},\"baxis\":{\"endlinecolor\":\"#2a3f5f\",\"gridcolor\":\"white\",\"linecolor\":\"white\",\"minorgridcolor\":\"white\",\"startlinecolor\":\"#2a3f5f\"},\"type\":\"carpet\"}],\"table\":[{\"cells\":{\"fill\":{\"color\":\"#EBF0F8\"},\"line\":{\"color\":\"white\"}},\"header\":{\"fill\":{\"color\":\"#C8D4E3\"},\"line\":{\"color\":\"white\"}},\"type\":\"table\"}],\"barpolar\":[{\"marker\":{\"line\":{\"color\":\"#E5ECF6\",\"width\":0.5},\"pattern\":{\"fillmode\":\"overlay\",\"size\":10,\"solidity\":0.2}},\"type\":\"barpolar\"}],\"pie\":[{\"automargin\":true,\"type\":\"pie\"}]},\"layout\":{\"autotypenumbers\":\"strict\",\"colorway\":[\"#636efa\",\"#EF553B\",\"#00cc96\",\"#ab63fa\",\"#FFA15A\",\"#19d3f3\",\"#FF6692\",\"#B6E880\",\"#FF97FF\",\"#FECB52\"],\"font\":{\"color\":\"#2a3f5f\"},\"hovermode\":\"closest\",\"hoverlabel\":{\"align\":\"left\"},\"paper_bgcolor\":\"white\",\"plot_bgcolor\":\"#E5ECF6\",\"polar\":{\"bgcolor\":\"#E5ECF6\",\"angularaxis\":{\"gridcolor\":\"white\",\"linecolor\":\"white\",\"ticks\":\"\"},\"radialaxis\":{\"gridcolor\":\"white\",\"linecolor\":\"white\",\"ticks\":\"\"}},\"ternary\":{\"bgcolor\":\"#E5ECF6\",\"aaxis\":{\"gridcolor\":\"white\",\"linecolor\":\"white\",\"ticks\":\"\"},\"baxis\":{\"gridcolor\":\"white\",\"linecolor\":\"white\",\"ticks\":\"\"},\"caxis\":{\"gridcolor\":\"white\",\"linecolor\":\"white\",\"ticks\":\"\"}},\"coloraxis\":{\"colorbar\":{\"outlinewidth\":0,\"ticks\":\"\"}},\"colorscale\":{\"sequential\":[[0.0,\"#0d0887\"],[0.1111111111111111,\"#46039f\"],[0.2222222222222222,\"#7201a8\"],[0.3333333333333333,\"#9c179e\"],[0.4444444444444444,\"#bd3786\"],[0.5555555555555556,\"#d8576b\"],[0.6666666666666666,\"#ed7953\"],[0.7777777777777778,\"#fb9f3a\"],[0.8888888888888888,\"#fdca26\"],[1.0,\"#f0f921\"]],\"sequentialminus\":[[0.0,\"#0d0887\"],[0.1111111111111111,\"#46039f\"],[0.2222222222222222,\"#7201a8\"],[0.3333333333333333,\"#9c179e\"],[0.4444444444444444,\"#bd3786\"],[0.5555555555555556,\"#d8576b\"],[0.6666666666666666,\"#ed7953\"],[0.7777777777777778,\"#fb9f3a\"],[0.8888888888888888,\"#fdca26\"],[1.0,\"#f0f921\"]],\"diverging\":[[0,\"#8e0152\"],[0.1,\"#c51b7d\"],[0.2,\"#de77ae\"],[0.3,\"#f1b6da\"],[0.4,\"#fde0ef\"],[0.5,\"#f7f7f7\"],[0.6,\"#e6f5d0\"],[0.7,\"#b8e186\"],[0.8,\"#7fbc41\"],[0.9,\"#4d9221\"],[1,\"#276419\"]]},\"xaxis\":{\"gridcolor\":\"white\",\"linecolor\":\"white\",\"ticks\":\"\",\"title\":{\"standoff\":15},\"zerolinecolor\":\"white\",\"automargin\":true,\"zerolinewidth\":2},\"yaxis\":{\"gridcolor\":\"white\",\"linecolor\":\"white\",\"ticks\":\"\",\"title\":{\"standoff\":15},\"zerolinecolor\":\"white\",\"automargin\":true,\"zerolinewidth\":2},\"scene\":{\"xaxis\":{\"backgroundcolor\":\"#E5ECF6\",\"gridcolor\":\"white\",\"linecolor\":\"white\",\"showbackground\":true,\"ticks\":\"\",\"zerolinecolor\":\"white\",\"gridwidth\":2},\"yaxis\":{\"backgroundcolor\":\"#E5ECF6\",\"gridcolor\":\"white\",\"linecolor\":\"white\",\"showbackground\":true,\"ticks\":\"\",\"zerolinecolor\":\"white\",\"gridwidth\":2},\"zaxis\":{\"backgroundcolor\":\"#E5ECF6\",\"gridcolor\":\"white\",\"linecolor\":\"white\",\"showbackground\":true,\"ticks\":\"\",\"zerolinecolor\":\"white\",\"gridwidth\":2}},\"shapedefaults\":{\"line\":{\"color\":\"#2a3f5f\"}},\"annotationdefaults\":{\"arrowcolor\":\"#2a3f5f\",\"arrowhead\":0,\"arrowwidth\":1},\"geo\":{\"bgcolor\":\"white\",\"landcolor\":\"#E5ECF6\",\"subunitcolor\":\"white\",\"showland\":true,\"showlakes\":true,\"lakecolor\":\"white\"},\"title\":{\"x\":0.05},\"mapbox\":{\"style\":\"light\"}}},\"xaxis\":{\"anchor\":\"y\",\"domain\":[0.0,1.0],\"title\":{\"text\":\"Region\"}},\"yaxis\":{\"anchor\":\"x\",\"domain\":[0.0,1.0],\"title\":{\"text\":\"Average WBL Index\"}},\"legend\":{\"title\":{\"text\":\"variable\"},\"tracegroupgap\":0},\"title\":{\"text\":\"Geographical Distribution of the Average WBL Index\"},\"barmode\":\"relative\"},                        {\"responsive\": true}                    ).then(function(){\n",
       "                            \n",
       "var gd = document.getElementById('deed8175-1b5b-4171-a42b-e471d7f7b265');\n",
       "var x = new MutationObserver(function (mutations, observer) {{\n",
       "        var display = window.getComputedStyle(gd).display;\n",
       "        if (!display || display === 'none') {{\n",
       "            console.log([gd, 'removed!']);\n",
       "            Plotly.purge(gd);\n",
       "            observer.disconnect();\n",
       "        }}\n",
       "}});\n",
       "\n",
       "// Listen for the removal of the full notebook cells\n",
       "var notebookContainer = gd.closest('#notebook-container');\n",
       "if (notebookContainer) {{\n",
       "    x.observe(notebookContainer, {childList: true});\n",
       "}}\n",
       "\n",
       "// Listen for the clearing of the current output cell\n",
       "var outputEl = gd.closest('.output');\n",
       "if (outputEl) {{\n",
       "    x.observe(outputEl, {childList: true});\n",
       "}}\n",
       "\n",
       "                        })                };                });            </script>        </div>"
      ]
     },
     "metadata": {},
     "output_type": "display_data"
    }
   ],
   "source": [
    "# Show the geographical distribution of the average WBL index\n",
    "fig = px.bar(avgWBL,\n",
    "             labels={'value':'Average WBL Index'}, title='Geographical Distribution of the Average WBL Index')\n",
    "fig.update_traces(marker_color='hotpink')\n",
    "fig.show()"
   ]
  },
  {
   "cell_type": "markdown",
   "id": "167192b5",
   "metadata": {},
   "source": [
    "## How this distribution has changed over decades ?"
   ]
  },
  {
   "cell_type": "code",
   "execution_count": 83,
   "id": "0b099d71",
   "metadata": {},
   "outputs": [
    {
     "data": {
      "text/html": [
       "<div>\n",
       "<style scoped>\n",
       "    .dataframe tbody tr th:only-of-type {\n",
       "        vertical-align: middle;\n",
       "    }\n",
       "\n",
       "    .dataframe tbody tr th {\n",
       "        vertical-align: top;\n",
       "    }\n",
       "\n",
       "    .dataframe thead tr th {\n",
       "        text-align: left;\n",
       "    }\n",
       "\n",
       "    .dataframe thead tr:last-of-type th {\n",
       "        text-align: right;\n",
       "    }\n",
       "</style>\n",
       "<table border=\"1\" class=\"dataframe\">\n",
       "  <thead>\n",
       "    <tr>\n",
       "      <th></th>\n",
       "      <th colspan=\"7\" halign=\"left\">WBL INDEX</th>\n",
       "    </tr>\n",
       "    <tr>\n",
       "      <th>Region</th>\n",
       "      <th>East Asia &amp; Pacific</th>\n",
       "      <th>Europe &amp; Central Asia</th>\n",
       "      <th>High income: OECD</th>\n",
       "      <th>Latin America &amp; Caribbean</th>\n",
       "      <th>Middle East &amp; North Africa</th>\n",
       "      <th>South Asia</th>\n",
       "      <th>Sub-Saharan Africa</th>\n",
       "    </tr>\n",
       "    <tr>\n",
       "      <th>Report Year</th>\n",
       "      <th></th>\n",
       "      <th></th>\n",
       "      <th></th>\n",
       "      <th></th>\n",
       "      <th></th>\n",
       "      <th></th>\n",
       "      <th></th>\n",
       "    </tr>\n",
       "  </thead>\n",
       "  <tbody>\n",
       "    <tr>\n",
       "      <th>1971</th>\n",
       "      <td>47.475</td>\n",
       "      <td>57.201087</td>\n",
       "      <td>55.055147</td>\n",
       "      <td>47.949219</td>\n",
       "      <td>29.71875</td>\n",
       "      <td>43.046875</td>\n",
       "      <td>37.981771</td>\n",
       "    </tr>\n",
       "    <tr>\n",
       "      <th>1972</th>\n",
       "      <td>47.575</td>\n",
       "      <td>56.059783</td>\n",
       "      <td>55.000000</td>\n",
       "      <td>48.691406</td>\n",
       "      <td>29.71875</td>\n",
       "      <td>43.046875</td>\n",
       "      <td>38.281250</td>\n",
       "    </tr>\n",
       "    <tr>\n",
       "      <th>1973</th>\n",
       "      <td>47.825</td>\n",
       "      <td>58.233696</td>\n",
       "      <td>55.606618</td>\n",
       "      <td>49.277344</td>\n",
       "      <td>29.71875</td>\n",
       "      <td>43.046875</td>\n",
       "      <td>38.502604</td>\n",
       "    </tr>\n",
       "    <tr>\n",
       "      <th>1974</th>\n",
       "      <td>48.650</td>\n",
       "      <td>58.777174</td>\n",
       "      <td>56.930147</td>\n",
       "      <td>50.468750</td>\n",
       "      <td>29.71875</td>\n",
       "      <td>43.437500</td>\n",
       "      <td>39.713542</td>\n",
       "    </tr>\n",
       "    <tr>\n",
       "      <th>1975</th>\n",
       "      <td>49.575</td>\n",
       "      <td>59.293478</td>\n",
       "      <td>57.426471</td>\n",
       "      <td>50.976562</td>\n",
       "      <td>30.65625</td>\n",
       "      <td>43.437500</td>\n",
       "      <td>39.947917</td>\n",
       "    </tr>\n",
       "    <tr>\n",
       "      <th>1976</th>\n",
       "      <td>49.575</td>\n",
       "      <td>59.293478</td>\n",
       "      <td>58.970588</td>\n",
       "      <td>51.503906</td>\n",
       "      <td>30.78125</td>\n",
       "      <td>43.437500</td>\n",
       "      <td>39.947917</td>\n",
       "    </tr>\n",
       "    <tr>\n",
       "      <th>1977</th>\n",
       "      <td>49.700</td>\n",
       "      <td>59.293478</td>\n",
       "      <td>59.944853</td>\n",
       "      <td>52.070312</td>\n",
       "      <td>30.78125</td>\n",
       "      <td>44.218750</td>\n",
       "      <td>40.182292</td>\n",
       "    </tr>\n",
       "    <tr>\n",
       "      <th>1978</th>\n",
       "      <td>50.200</td>\n",
       "      <td>59.293478</td>\n",
       "      <td>61.360294</td>\n",
       "      <td>52.480469</td>\n",
       "      <td>31.21875</td>\n",
       "      <td>44.218750</td>\n",
       "      <td>40.312500</td>\n",
       "    </tr>\n",
       "    <tr>\n",
       "      <th>1979</th>\n",
       "      <td>50.450</td>\n",
       "      <td>59.293478</td>\n",
       "      <td>62.830882</td>\n",
       "      <td>52.656250</td>\n",
       "      <td>31.21875</td>\n",
       "      <td>44.218750</td>\n",
       "      <td>41.250000</td>\n",
       "    </tr>\n",
       "    <tr>\n",
       "      <th>1980</th>\n",
       "      <td>50.575</td>\n",
       "      <td>59.293478</td>\n",
       "      <td>63.566176</td>\n",
       "      <td>53.300781</td>\n",
       "      <td>31.34375</td>\n",
       "      <td>44.218750</td>\n",
       "      <td>41.302083</td>\n",
       "    </tr>\n",
       "    <tr>\n",
       "      <th>1981</th>\n",
       "      <td>50.575</td>\n",
       "      <td>59.157609</td>\n",
       "      <td>64.099265</td>\n",
       "      <td>53.632812</td>\n",
       "      <td>31.50000</td>\n",
       "      <td>44.218750</td>\n",
       "      <td>41.809896</td>\n",
       "    </tr>\n",
       "    <tr>\n",
       "      <th>1982</th>\n",
       "      <td>50.825</td>\n",
       "      <td>59.293478</td>\n",
       "      <td>64.761029</td>\n",
       "      <td>55.000000</td>\n",
       "      <td>31.65625</td>\n",
       "      <td>44.218750</td>\n",
       "      <td>42.148438</td>\n",
       "    </tr>\n",
       "    <tr>\n",
       "      <th>1983</th>\n",
       "      <td>51.075</td>\n",
       "      <td>59.293478</td>\n",
       "      <td>65.496324</td>\n",
       "      <td>55.058594</td>\n",
       "      <td>31.65625</td>\n",
       "      <td>44.218750</td>\n",
       "      <td>42.734375</td>\n",
       "    </tr>\n",
       "    <tr>\n",
       "      <th>1984</th>\n",
       "      <td>51.075</td>\n",
       "      <td>59.293478</td>\n",
       "      <td>66.121324</td>\n",
       "      <td>56.328125</td>\n",
       "      <td>31.81250</td>\n",
       "      <td>44.218750</td>\n",
       "      <td>43.294271</td>\n",
       "    </tr>\n",
       "    <tr>\n",
       "      <th>1985</th>\n",
       "      <td>51.200</td>\n",
       "      <td>59.293478</td>\n",
       "      <td>66.544118</td>\n",
       "      <td>56.718750</td>\n",
       "      <td>32.06250</td>\n",
       "      <td>44.218750</td>\n",
       "      <td>43.710938</td>\n",
       "    </tr>\n",
       "    <tr>\n",
       "      <th>1986</th>\n",
       "      <td>51.425</td>\n",
       "      <td>59.293478</td>\n",
       "      <td>67.518382</td>\n",
       "      <td>57.324219</td>\n",
       "      <td>32.06250</td>\n",
       "      <td>43.828125</td>\n",
       "      <td>43.945312</td>\n",
       "    </tr>\n",
       "    <tr>\n",
       "      <th>1987</th>\n",
       "      <td>51.625</td>\n",
       "      <td>60.027174</td>\n",
       "      <td>68.106618</td>\n",
       "      <td>57.500000</td>\n",
       "      <td>32.06250</td>\n",
       "      <td>43.828125</td>\n",
       "      <td>44.414062</td>\n",
       "    </tr>\n",
       "    <tr>\n",
       "      <th>1988</th>\n",
       "      <td>51.825</td>\n",
       "      <td>60.271739</td>\n",
       "      <td>68.713235</td>\n",
       "      <td>57.578125</td>\n",
       "      <td>31.90625</td>\n",
       "      <td>43.437500</td>\n",
       "      <td>44.479167</td>\n",
       "    </tr>\n",
       "    <tr>\n",
       "      <th>1989</th>\n",
       "      <td>52.700</td>\n",
       "      <td>60.244565</td>\n",
       "      <td>69.191176</td>\n",
       "      <td>58.730469</td>\n",
       "      <td>32.21875</td>\n",
       "      <td>43.750000</td>\n",
       "      <td>45.286458</td>\n",
       "    </tr>\n",
       "    <tr>\n",
       "      <th>1990</th>\n",
       "      <td>53.050</td>\n",
       "      <td>60.244565</td>\n",
       "      <td>69.705882</td>\n",
       "      <td>59.453125</td>\n",
       "      <td>32.21875</td>\n",
       "      <td>43.750000</td>\n",
       "      <td>45.390625</td>\n",
       "    </tr>\n",
       "    <tr>\n",
       "      <th>1991</th>\n",
       "      <td>53.150</td>\n",
       "      <td>60.516304</td>\n",
       "      <td>71.029412</td>\n",
       "      <td>60.507812</td>\n",
       "      <td>32.81250</td>\n",
       "      <td>43.750000</td>\n",
       "      <td>46.119792</td>\n",
       "    </tr>\n",
       "    <tr>\n",
       "      <th>1992</th>\n",
       "      <td>53.800</td>\n",
       "      <td>61.277174</td>\n",
       "      <td>71.580882</td>\n",
       "      <td>60.957031</td>\n",
       "      <td>32.78125</td>\n",
       "      <td>43.750000</td>\n",
       "      <td>46.302083</td>\n",
       "    </tr>\n",
       "    <tr>\n",
       "      <th>1993</th>\n",
       "      <td>53.925</td>\n",
       "      <td>61.820652</td>\n",
       "      <td>72.077206</td>\n",
       "      <td>61.757812</td>\n",
       "      <td>32.93750</td>\n",
       "      <td>43.750000</td>\n",
       "      <td>47.109375</td>\n",
       "    </tr>\n",
       "    <tr>\n",
       "      <th>1994</th>\n",
       "      <td>53.925</td>\n",
       "      <td>62.201087</td>\n",
       "      <td>72.665441</td>\n",
       "      <td>62.617188</td>\n",
       "      <td>32.93750</td>\n",
       "      <td>43.750000</td>\n",
       "      <td>48.177083</td>\n",
       "    </tr>\n",
       "    <tr>\n",
       "      <th>1995</th>\n",
       "      <td>54.375</td>\n",
       "      <td>62.826087</td>\n",
       "      <td>73.382353</td>\n",
       "      <td>63.750000</td>\n",
       "      <td>33.87500</td>\n",
       "      <td>43.750000</td>\n",
       "      <td>48.958333</td>\n",
       "    </tr>\n",
       "    <tr>\n",
       "      <th>1996</th>\n",
       "      <td>55.150</td>\n",
       "      <td>63.614130</td>\n",
       "      <td>74.411765</td>\n",
       "      <td>64.589844</td>\n",
       "      <td>34.03125</td>\n",
       "      <td>44.375000</td>\n",
       "      <td>49.609375</td>\n",
       "    </tr>\n",
       "    <tr>\n",
       "      <th>1997</th>\n",
       "      <td>55.775</td>\n",
       "      <td>65.027174</td>\n",
       "      <td>75.882353</td>\n",
       "      <td>65.253906</td>\n",
       "      <td>34.34375</td>\n",
       "      <td>45.156250</td>\n",
       "      <td>50.403646</td>\n",
       "    </tr>\n",
       "    <tr>\n",
       "      <th>1998</th>\n",
       "      <td>56.350</td>\n",
       "      <td>65.951087</td>\n",
       "      <td>76.562500</td>\n",
       "      <td>66.855469</td>\n",
       "      <td>34.18750</td>\n",
       "      <td>45.156250</td>\n",
       "      <td>50.937500</td>\n",
       "    </tr>\n",
       "    <tr>\n",
       "      <th>1999</th>\n",
       "      <td>56.775</td>\n",
       "      <td>66.222826</td>\n",
       "      <td>77.205882</td>\n",
       "      <td>67.792969</td>\n",
       "      <td>34.18750</td>\n",
       "      <td>45.468750</td>\n",
       "      <td>51.705729</td>\n",
       "    </tr>\n",
       "    <tr>\n",
       "      <th>2000</th>\n",
       "      <td>57.500</td>\n",
       "      <td>66.766304</td>\n",
       "      <td>78.253676</td>\n",
       "      <td>68.710938</td>\n",
       "      <td>34.65625</td>\n",
       "      <td>45.546875</td>\n",
       "      <td>52.330729</td>\n",
       "    </tr>\n",
       "    <tr>\n",
       "      <th>2001</th>\n",
       "      <td>58.075</td>\n",
       "      <td>67.608696</td>\n",
       "      <td>79.209559</td>\n",
       "      <td>69.902344</td>\n",
       "      <td>35.21875</td>\n",
       "      <td>45.546875</td>\n",
       "      <td>53.098958</td>\n",
       "    </tr>\n",
       "    <tr>\n",
       "      <th>2002</th>\n",
       "      <td>58.075</td>\n",
       "      <td>67.853261</td>\n",
       "      <td>79.724265</td>\n",
       "      <td>70.527344</td>\n",
       "      <td>35.37500</td>\n",
       "      <td>45.156250</td>\n",
       "      <td>53.502604</td>\n",
       "    </tr>\n",
       "    <tr>\n",
       "      <th>2003</th>\n",
       "      <td>59.125</td>\n",
       "      <td>69.429348</td>\n",
       "      <td>81.176471</td>\n",
       "      <td>71.855469</td>\n",
       "      <td>35.50000</td>\n",
       "      <td>45.781250</td>\n",
       "      <td>54.062500</td>\n",
       "    </tr>\n",
       "    <tr>\n",
       "      <th>2004</th>\n",
       "      <td>59.700</td>\n",
       "      <td>72.010870</td>\n",
       "      <td>82.389706</td>\n",
       "      <td>72.226562</td>\n",
       "      <td>36.12500</td>\n",
       "      <td>45.781250</td>\n",
       "      <td>54.361979</td>\n",
       "    </tr>\n",
       "    <tr>\n",
       "      <th>2005</th>\n",
       "      <td>60.425</td>\n",
       "      <td>73.423913</td>\n",
       "      <td>83.988971</td>\n",
       "      <td>72.558594</td>\n",
       "      <td>37.75000</td>\n",
       "      <td>45.781250</td>\n",
       "      <td>55.221354</td>\n",
       "    </tr>\n",
       "    <tr>\n",
       "      <th>2006</th>\n",
       "      <td>60.625</td>\n",
       "      <td>75.516304</td>\n",
       "      <td>84.834559</td>\n",
       "      <td>72.656250</td>\n",
       "      <td>38.59375</td>\n",
       "      <td>45.781250</td>\n",
       "      <td>57.447917</td>\n",
       "    </tr>\n",
       "    <tr>\n",
       "      <th>2007</th>\n",
       "      <td>60.950</td>\n",
       "      <td>76.766304</td>\n",
       "      <td>86.268382</td>\n",
       "      <td>73.203125</td>\n",
       "      <td>39.15625</td>\n",
       "      <td>46.093750</td>\n",
       "      <td>58.385417</td>\n",
       "    </tr>\n",
       "    <tr>\n",
       "      <th>2008</th>\n",
       "      <td>61.450</td>\n",
       "      <td>77.445652</td>\n",
       "      <td>87.573529</td>\n",
       "      <td>73.828125</td>\n",
       "      <td>39.43750</td>\n",
       "      <td>49.296875</td>\n",
       "      <td>59.700521</td>\n",
       "    </tr>\n",
       "    <tr>\n",
       "      <th>2009</th>\n",
       "      <td>62.725</td>\n",
       "      <td>78.315217</td>\n",
       "      <td>88.731618</td>\n",
       "      <td>74.609375</td>\n",
       "      <td>39.96875</td>\n",
       "      <td>50.390625</td>\n",
       "      <td>61.354167</td>\n",
       "    </tr>\n",
       "    <tr>\n",
       "      <th>2010</th>\n",
       "      <td>63.250</td>\n",
       "      <td>79.130435</td>\n",
       "      <td>90.220588</td>\n",
       "      <td>75.234375</td>\n",
       "      <td>39.96875</td>\n",
       "      <td>52.187500</td>\n",
       "      <td>62.682292</td>\n",
       "    </tr>\n",
       "    <tr>\n",
       "      <th>2011</th>\n",
       "      <td>63.850</td>\n",
       "      <td>80.326087</td>\n",
       "      <td>90.992647</td>\n",
       "      <td>75.507812</td>\n",
       "      <td>41.12500</td>\n",
       "      <td>53.281250</td>\n",
       "      <td>62.786458</td>\n",
       "    </tr>\n",
       "    <tr>\n",
       "      <th>2012</th>\n",
       "      <td>64.675</td>\n",
       "      <td>80.760870</td>\n",
       "      <td>92.022059</td>\n",
       "      <td>75.605469</td>\n",
       "      <td>41.28125</td>\n",
       "      <td>53.593750</td>\n",
       "      <td>63.242188</td>\n",
       "    </tr>\n",
       "    <tr>\n",
       "      <th>2013</th>\n",
       "      <td>66.400</td>\n",
       "      <td>80.869565</td>\n",
       "      <td>92.500000</td>\n",
       "      <td>75.859375</td>\n",
       "      <td>41.53125</td>\n",
       "      <td>53.906250</td>\n",
       "      <td>64.192708</td>\n",
       "    </tr>\n",
       "    <tr>\n",
       "      <th>2014</th>\n",
       "      <td>67.875</td>\n",
       "      <td>81.385870</td>\n",
       "      <td>92.720588</td>\n",
       "      <td>76.796875</td>\n",
       "      <td>41.68750</td>\n",
       "      <td>55.312500</td>\n",
       "      <td>65.078125</td>\n",
       "    </tr>\n",
       "    <tr>\n",
       "      <th>2015</th>\n",
       "      <td>68.725</td>\n",
       "      <td>81.657609</td>\n",
       "      <td>93.143382</td>\n",
       "      <td>77.246094</td>\n",
       "      <td>42.25000</td>\n",
       "      <td>55.312500</td>\n",
       "      <td>65.755208</td>\n",
       "    </tr>\n",
       "    <tr>\n",
       "      <th>2016</th>\n",
       "      <td>69.275</td>\n",
       "      <td>81.739130</td>\n",
       "      <td>93.437500</td>\n",
       "      <td>78.222656</td>\n",
       "      <td>42.68750</td>\n",
       "      <td>56.875000</td>\n",
       "      <td>66.302083</td>\n",
       "    </tr>\n",
       "    <tr>\n",
       "      <th>2017</th>\n",
       "      <td>69.975</td>\n",
       "      <td>81.983696</td>\n",
       "      <td>93.786765</td>\n",
       "      <td>78.613281</td>\n",
       "      <td>44.12500</td>\n",
       "      <td>58.046875</td>\n",
       "      <td>67.278646</td>\n",
       "    </tr>\n",
       "    <tr>\n",
       "      <th>2018</th>\n",
       "      <td>70.175</td>\n",
       "      <td>82.364130</td>\n",
       "      <td>94.136029</td>\n",
       "      <td>78.945312</td>\n",
       "      <td>44.12500</td>\n",
       "      <td>59.140625</td>\n",
       "      <td>68.411458</td>\n",
       "    </tr>\n",
       "    <tr>\n",
       "      <th>2019</th>\n",
       "      <td>70.500</td>\n",
       "      <td>82.717391</td>\n",
       "      <td>94.705882</td>\n",
       "      <td>79.335938</td>\n",
       "      <td>45.40625</td>\n",
       "      <td>61.875000</td>\n",
       "      <td>69.101562</td>\n",
       "    </tr>\n",
       "    <tr>\n",
       "      <th>2020</th>\n",
       "      <td>70.825</td>\n",
       "      <td>83.125000</td>\n",
       "      <td>94.779412</td>\n",
       "      <td>79.707031</td>\n",
       "      <td>48.96875</td>\n",
       "      <td>62.968750</td>\n",
       "      <td>70.208333</td>\n",
       "    </tr>\n",
       "    <tr>\n",
       "      <th>2021</th>\n",
       "      <td>71.450</td>\n",
       "      <td>83.532609</td>\n",
       "      <td>94.981618</td>\n",
       "      <td>80.234375</td>\n",
       "      <td>51.50000</td>\n",
       "      <td>63.671875</td>\n",
       "      <td>70.677083</td>\n",
       "    </tr>\n",
       "    <tr>\n",
       "      <th>2022</th>\n",
       "      <td>71.925</td>\n",
       "      <td>84.130435</td>\n",
       "      <td>95.202206</td>\n",
       "      <td>80.410156</td>\n",
       "      <td>53.03125</td>\n",
       "      <td>63.671875</td>\n",
       "      <td>71.471354</td>\n",
       "    </tr>\n",
       "  </tbody>\n",
       "</table>\n",
       "</div>"
      ],
      "text/plain": [
       "                      WBL INDEX                                          \\\n",
       "Region      East Asia & Pacific Europe & Central Asia High income: OECD   \n",
       "Report Year                                                               \n",
       "1971                     47.475             57.201087         55.055147   \n",
       "1972                     47.575             56.059783         55.000000   \n",
       "1973                     47.825             58.233696         55.606618   \n",
       "1974                     48.650             58.777174         56.930147   \n",
       "1975                     49.575             59.293478         57.426471   \n",
       "1976                     49.575             59.293478         58.970588   \n",
       "1977                     49.700             59.293478         59.944853   \n",
       "1978                     50.200             59.293478         61.360294   \n",
       "1979                     50.450             59.293478         62.830882   \n",
       "1980                     50.575             59.293478         63.566176   \n",
       "1981                     50.575             59.157609         64.099265   \n",
       "1982                     50.825             59.293478         64.761029   \n",
       "1983                     51.075             59.293478         65.496324   \n",
       "1984                     51.075             59.293478         66.121324   \n",
       "1985                     51.200             59.293478         66.544118   \n",
       "1986                     51.425             59.293478         67.518382   \n",
       "1987                     51.625             60.027174         68.106618   \n",
       "1988                     51.825             60.271739         68.713235   \n",
       "1989                     52.700             60.244565         69.191176   \n",
       "1990                     53.050             60.244565         69.705882   \n",
       "1991                     53.150             60.516304         71.029412   \n",
       "1992                     53.800             61.277174         71.580882   \n",
       "1993                     53.925             61.820652         72.077206   \n",
       "1994                     53.925             62.201087         72.665441   \n",
       "1995                     54.375             62.826087         73.382353   \n",
       "1996                     55.150             63.614130         74.411765   \n",
       "1997                     55.775             65.027174         75.882353   \n",
       "1998                     56.350             65.951087         76.562500   \n",
       "1999                     56.775             66.222826         77.205882   \n",
       "2000                     57.500             66.766304         78.253676   \n",
       "2001                     58.075             67.608696         79.209559   \n",
       "2002                     58.075             67.853261         79.724265   \n",
       "2003                     59.125             69.429348         81.176471   \n",
       "2004                     59.700             72.010870         82.389706   \n",
       "2005                     60.425             73.423913         83.988971   \n",
       "2006                     60.625             75.516304         84.834559   \n",
       "2007                     60.950             76.766304         86.268382   \n",
       "2008                     61.450             77.445652         87.573529   \n",
       "2009                     62.725             78.315217         88.731618   \n",
       "2010                     63.250             79.130435         90.220588   \n",
       "2011                     63.850             80.326087         90.992647   \n",
       "2012                     64.675             80.760870         92.022059   \n",
       "2013                     66.400             80.869565         92.500000   \n",
       "2014                     67.875             81.385870         92.720588   \n",
       "2015                     68.725             81.657609         93.143382   \n",
       "2016                     69.275             81.739130         93.437500   \n",
       "2017                     69.975             81.983696         93.786765   \n",
       "2018                     70.175             82.364130         94.136029   \n",
       "2019                     70.500             82.717391         94.705882   \n",
       "2020                     70.825             83.125000         94.779412   \n",
       "2021                     71.450             83.532609         94.981618   \n",
       "2022                     71.925             84.130435         95.202206   \n",
       "\n",
       "                                                                             \\\n",
       "Region      Latin America & Caribbean Middle East & North Africa South Asia   \n",
       "Report Year                                                                   \n",
       "1971                        47.949219                   29.71875  43.046875   \n",
       "1972                        48.691406                   29.71875  43.046875   \n",
       "1973                        49.277344                   29.71875  43.046875   \n",
       "1974                        50.468750                   29.71875  43.437500   \n",
       "1975                        50.976562                   30.65625  43.437500   \n",
       "1976                        51.503906                   30.78125  43.437500   \n",
       "1977                        52.070312                   30.78125  44.218750   \n",
       "1978                        52.480469                   31.21875  44.218750   \n",
       "1979                        52.656250                   31.21875  44.218750   \n",
       "1980                        53.300781                   31.34375  44.218750   \n",
       "1981                        53.632812                   31.50000  44.218750   \n",
       "1982                        55.000000                   31.65625  44.218750   \n",
       "1983                        55.058594                   31.65625  44.218750   \n",
       "1984                        56.328125                   31.81250  44.218750   \n",
       "1985                        56.718750                   32.06250  44.218750   \n",
       "1986                        57.324219                   32.06250  43.828125   \n",
       "1987                        57.500000                   32.06250  43.828125   \n",
       "1988                        57.578125                   31.90625  43.437500   \n",
       "1989                        58.730469                   32.21875  43.750000   \n",
       "1990                        59.453125                   32.21875  43.750000   \n",
       "1991                        60.507812                   32.81250  43.750000   \n",
       "1992                        60.957031                   32.78125  43.750000   \n",
       "1993                        61.757812                   32.93750  43.750000   \n",
       "1994                        62.617188                   32.93750  43.750000   \n",
       "1995                        63.750000                   33.87500  43.750000   \n",
       "1996                        64.589844                   34.03125  44.375000   \n",
       "1997                        65.253906                   34.34375  45.156250   \n",
       "1998                        66.855469                   34.18750  45.156250   \n",
       "1999                        67.792969                   34.18750  45.468750   \n",
       "2000                        68.710938                   34.65625  45.546875   \n",
       "2001                        69.902344                   35.21875  45.546875   \n",
       "2002                        70.527344                   35.37500  45.156250   \n",
       "2003                        71.855469                   35.50000  45.781250   \n",
       "2004                        72.226562                   36.12500  45.781250   \n",
       "2005                        72.558594                   37.75000  45.781250   \n",
       "2006                        72.656250                   38.59375  45.781250   \n",
       "2007                        73.203125                   39.15625  46.093750   \n",
       "2008                        73.828125                   39.43750  49.296875   \n",
       "2009                        74.609375                   39.96875  50.390625   \n",
       "2010                        75.234375                   39.96875  52.187500   \n",
       "2011                        75.507812                   41.12500  53.281250   \n",
       "2012                        75.605469                   41.28125  53.593750   \n",
       "2013                        75.859375                   41.53125  53.906250   \n",
       "2014                        76.796875                   41.68750  55.312500   \n",
       "2015                        77.246094                   42.25000  55.312500   \n",
       "2016                        78.222656                   42.68750  56.875000   \n",
       "2017                        78.613281                   44.12500  58.046875   \n",
       "2018                        78.945312                   44.12500  59.140625   \n",
       "2019                        79.335938                   45.40625  61.875000   \n",
       "2020                        79.707031                   48.96875  62.968750   \n",
       "2021                        80.234375                   51.50000  63.671875   \n",
       "2022                        80.410156                   53.03125  63.671875   \n",
       "\n",
       "                                \n",
       "Region      Sub-Saharan Africa  \n",
       "Report Year                     \n",
       "1971                 37.981771  \n",
       "1972                 38.281250  \n",
       "1973                 38.502604  \n",
       "1974                 39.713542  \n",
       "1975                 39.947917  \n",
       "1976                 39.947917  \n",
       "1977                 40.182292  \n",
       "1978                 40.312500  \n",
       "1979                 41.250000  \n",
       "1980                 41.302083  \n",
       "1981                 41.809896  \n",
       "1982                 42.148438  \n",
       "1983                 42.734375  \n",
       "1984                 43.294271  \n",
       "1985                 43.710938  \n",
       "1986                 43.945312  \n",
       "1987                 44.414062  \n",
       "1988                 44.479167  \n",
       "1989                 45.286458  \n",
       "1990                 45.390625  \n",
       "1991                 46.119792  \n",
       "1992                 46.302083  \n",
       "1993                 47.109375  \n",
       "1994                 48.177083  \n",
       "1995                 48.958333  \n",
       "1996                 49.609375  \n",
       "1997                 50.403646  \n",
       "1998                 50.937500  \n",
       "1999                 51.705729  \n",
       "2000                 52.330729  \n",
       "2001                 53.098958  \n",
       "2002                 53.502604  \n",
       "2003                 54.062500  \n",
       "2004                 54.361979  \n",
       "2005                 55.221354  \n",
       "2006                 57.447917  \n",
       "2007                 58.385417  \n",
       "2008                 59.700521  \n",
       "2009                 61.354167  \n",
       "2010                 62.682292  \n",
       "2011                 62.786458  \n",
       "2012                 63.242188  \n",
       "2013                 64.192708  \n",
       "2014                 65.078125  \n",
       "2015                 65.755208  \n",
       "2016                 66.302083  \n",
       "2017                 67.278646  \n",
       "2018                 68.411458  \n",
       "2019                 69.101562  \n",
       "2020                 70.208333  \n",
       "2021                 70.677083  \n",
       "2022                 71.471354  "
      ]
     },
     "execution_count": 83,
     "metadata": {},
     "output_type": "execute_result"
    }
   ],
   "source": [
    "# Create an index including: Region, WBL Index, Report Year\n",
    "year_index = wbl_df[['Region', 'WBL INDEX', 'Report Year']]\n",
    "\n",
    "# Create a pivot table showing the WBL index for each region by year\n",
    "year_index1 = pd.pivot_table(year_index, index=['Report Year'], columns=['Region'], values=['WBL INDEX'])\n",
    "year_index1"
   ]
  },
  {
   "cell_type": "code",
   "execution_count": 101,
   "id": "a11b80ae",
   "metadata": {},
   "outputs": [
    {
     "data": {
      "image/png": "[encoded data removed]",
      "text/plain": [
       "<Figure size 1800x500 with 1 Axes>"
      ]
     },
     "metadata": {},
     "output_type": "display_data"
    }
   ],
   "source": [
    "# Create a multiple line plot showing the distribution over time\n",
    "ax = year_index1.plot(xticks=year_index1.index, ylabel='WBL INDEX',  figsize=(18,5))\n",
    "plt.setp(ax.get_xticklabels(), rotation=30, horizontalalignment='right')\n",
    "ax.legend(bbox_to_anchor=(1.1, 1.05))\n",
    "plt.show()"
   ]
  },
  {
   "cell_type": "code",
   "execution_count": null,
   "id": "63212edf",
   "metadata": {},
   "outputs": [],
   "source": []
  }
 ],
 "metadata": {
  "kernelspec": {
   "display_name": "Python 3 (ipykernel)",
   "language": "python",
   "name": "python3"
  },
  "language_info": {
   "codemirror_mode": {
    "name": "ipython",
    "version": 3
   },
   "file_extension": ".py",
   "mimetype": "text/x-python",
   "name": "python",
   "nbconvert_exporter": "python",
   "pygments_lexer": "ipython3",
   "version": "3.10.7"
  }
 },
 "nbformat": 4,
 "nbformat_minor": 5
}
